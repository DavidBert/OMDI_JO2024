{
 "cells": [
  {
   "cell_type": "code",
   "execution_count": 1,
   "metadata": {},
   "outputs": [
    {
     "name": "stdout",
     "output_type": "stream",
     "text": [
      "1. What is your favorite hobby?\n",
      "2. Have you traveled to another country?\n",
      "3. Do you prefer hot or cold weather?\n",
      "4. Can you speak more than one language?\n",
      "5. Have you ever learned a new skill?\n",
      "6. Do you have any pets?\n",
      "7. Are you currently in a relationship?\n",
      "8. How many siblings do you have?\n",
      "9. What is your favorite type of music?\n",
      "10. Have you ever won an award?\n",
      "11. Can you cook or bake well?\n",
      "12. Do you prefer reading fiction or nonfiction books?\n",
      "13. Are you a morning person or night owl?\n",
      "14. Have you ever gone skydiving or tried another adventure sport?\n",
      "15. Do you have any favorite sports teams?\n",
      "16. Can you play a musical instrument?\n",
      "17. Have you ever been to a music festival?\n",
      "18. How many hours of sleep do you get per night?\n",
      "19. Are you allergic to anything?\n",
      "20. Have you ever volunteered for a cause?\n"
     ]
    }
   ],
   "source": [
    "import ollama\n",
    "response = ollama.chat(model='llama3.1', messages=[\n",
    "  {\n",
    "    'role': 'user',\n",
    "    'content': 'Generate 50 questions. Do not write anything else than the questions',\n",
    "  },\n",
    "])\n",
    "print(response['message']['content'])"
   ]
  },
  {
   "cell_type": "code",
   "execution_count": 31,
   "metadata": {},
   "outputs": [],
   "source": [
    "def extract_questions(response):\n",
    "    questions = []\n",
    "    for q in response['message']['content'].split('\\n'):\n",
    "        # if q is empty, skip\n",
    "        if q == \"\":\n",
    "            continue\n",
    "        # check this is a question (starts with a number)\n",
    "        if q[0].isdigit():\n",
    "            # remove the number at the beginning of the question\n",
    "            q = q.split('.')[1].strip()\n",
    "            questions.append(q)\n",
    "        else:\n",
    "            print(f\"Question not valid: {q}\")\n",
    "    return questions\n"
   ]
  },
  {
   "cell_type": "code",
   "execution_count": 17,
   "metadata": {},
   "outputs": [],
   "source": [
    "base_prompt = \"I'm preparing a small nlp classification project for my students. The project will be to classify spectators questions about the Paris Olympic games in 2024. \\\n",
    "    Here is a list of categories (the classes to predict) and sub categories:\\\n",
    "        * Logistics & Transport (Site Access, Public Transportation, Parking, Accommodation, Accessibility for Disabled Persons) \\\n",
    "        * Ticketing & Access (Ticket Prices, Purchase Procedure, Pass Types, Access Conditions, Security Control) \\\n",
    "        * Sport Events (Schedule, Venue, Athletes, Results) \\\n",
    "        * Program & Planning (Event Schedule, Specific Timetables, Site Planning, Opening/Closing Ceremonies, Side Events) \\\n",
    "        * Services & Amenities (Wi-Fi/Connectivity, Lockers/Storage, Medical Services, Information Points, Lost & Found) \\\n",
    "        * Security & Emergencies (Security Measures, Emergency Procedures, First Aid Points, Allowed/Prohibited Items, Evacuation) \\\n",
    "        * Rules & Sport (Discipline Rules, Competition Format, Qualification System, Records/Statistics, Teams/Athletes) \\\n",
    "        * Food & Drink (Food & Beverage Points, Bars, Restaurants and Snack Bars) \\\n",
    "        I expect them to use TF-IDF to generate the features, so I need the questions of a same  category to have similar words stemms or concepts easy to discover by a tf-IDF\" "
   ]
  },
  {
   "cell_type": "code",
   "execution_count": 33,
   "metadata": {},
   "outputs": [],
   "source": [
    "Logistics_Transport_prompt = \"Here is a list of things that should be in the category Logistics & Transport: \\\n",
    "    * Common words:\\\n",
    "\t+ Transport\\\n",
    "\t+ Parking\\\n",
    "\t+ Access\\\n",
    "\t+ Route\\\n",
    "\t+ Entrance\\\n",
    "* Phrases:\\\n",
    "\t+ 'How do I...'\\\n",
    "\t+ 'Is there a designated area for...?'\\\n",
    "\t+ 'Can I bring my mobility aid...'\\\n",
    "* Indicators:\\\n",
    "\t+ Dates and times\\\n",
    "\t+ Accommodations (hotels, hostels)\\\n",
    "\t+ Transportation modes (buses, trains, taxis)\"\n",
    " \n",
    " \n",
    "Ticketing_Access_prompt = \"Here is a list of things that should be in the category Ticketing & Access: \\\n",
    "* Common words:\\\n",
    "+ Ticket\\\n",
    "+ Pass\\\n",
    "+ Price\\\n",
    "+ Book\\\n",
    "+ Purchase\\\n",
    "+ Entry\\\n",
    "+ Gate\\\n",
    "+ Valid\\\n",
    "+ Seat\\\n",
    "+ ID\\\n",
    "* Phrases:\\\n",
    "+ 'How much does...'\\\n",
    "+ 'Where can I buy...?'\\\n",
    "+ 'Do I need to show...?'\\\n",
    "+ 'Is my ticket valid for...?'\\\n",
    "* Indicators:\\\n",
    "+ Currency symbols (€, $)\\\n",
    "+ Ticket types (single, multi-day, season)\\\n",
    "+ Documentation references (passport, ID card)\\\n",
    "+ Age categories (adult, child, senior)\"\n",
    "\n",
    "Sport_Events_prompt = \"Here is a list of things that should be in the category Sport Events: \\\n",
    "* Common words:\\\n",
    "+ Match\\\n",
    "+ Competition\\\n",
    "+ Race\\\n",
    "+ Final\\\n",
    "+ Medal\\\n",
    "+ Athlete\\\n",
    "+ Score\\\n",
    "+ Team\\\n",
    "+ Event\\\n",
    "+ Round\\\n",
    "* Phrases:\\\n",
    "+ 'When does the...start?'\\\n",
    "+ 'Which athletes are competing...?'\\\n",
    "+ 'Where can I see the results...?'\\\n",
    "+ 'What time is the final...?'\\\n",
    "* Indicators:\\\n",
    "+ Sport disciplines (swimming, athletics, judo)\\\n",
    "+ Competition phases (heats, semi-finals, finals)\\\n",
    "+ Time specifications (morning session, afternoon session)\\\n",
    "+ Performance metrics (points, times, distances)\"\n",
    "\n",
    "Program_Planning_prompt = \"Here is a list of things that should be in the category Program & Planning: \\\n",
    "* Common words:\\\n",
    "+ Schedule\\\n",
    "+ Program\\\n",
    "+ Ceremony\\\n",
    "+ Event\\\n",
    "+ Timetable\\\n",
    "+ Opening\\\n",
    "+ Closing\\\n",
    "+ Session\\\n",
    "+ Duration\\\n",
    "+ Festival\\\n",
    "* Phrases:\\\n",
    "+ 'What time does...begin?'\\\n",
    "+ 'When is the opening ceremony...?'\\\n",
    "+ 'How long does...last?'\\\n",
    "+ 'Is there anything else happening...?'\\\n",
    "* Indicators:\\\n",
    "+ Time formats (9:00, 14:30)\\\n",
    "+ Date references (July 26th, August 11th)\\\n",
    "+ Event types (ceremony, cultural event, exhibition)\\\n",
    "+ Schedule periods (morning, afternoon, evening)\\\n",
    "+ Duration units (hours, minutes)\"\n",
    "\n",
    "Services_Amenities_prompt = \"Here is a list of things that should be in the category Services & Amenities: \\\n",
    "* Common words:\\\n",
    "+ Wifi\\\n",
    "+ Internet\\\n",
    "+ Locker\\\n",
    "+ Storage\\\n",
    "+ Medical\\\n",
    "+ Information\\\n",
    "+ Lost\\\n",
    "+ Found\\\n",
    "+ Service\\\n",
    "+ Help\\\n",
    "* Phrases:\\\n",
    "+ 'Where can I find...?'\\\n",
    "+ 'Is there wifi available...?'\\\n",
    "+ 'What should I do if I lose...?'\\\n",
    "+ 'How do I access...?'\\\n",
    "* Indicators:\\\n",
    "+ Service locations (information desk, medical center)\\\n",
    "+ Amenity types (wifi network, storage facility)\\\n",
    "+ Equipment references (locker key, first aid)\\\n",
    "+ Lost items (belongings, documents, devices)\\\n",
    "+ Service hours (24/7, opening hours)\"\n",
    "\n",
    "Security_Emergencies_prompt = \"Here is a list of things that should be in the category Security & Emergencies: \\\n",
    "* Common words:\\\n",
    "+ Security\\\n",
    "+ Emergency\\\n",
    "+ Safety\\\n",
    "+ Police\\\n",
    "+ Guard\\\n",
    "+ Exit\\\n",
    "+ Evacuation\\\n",
    "+ Prohibited\\\n",
    "+ Allowed\\\n",
    "+ Check\\\n",
    "* Phrases:\\\n",
    "+ 'What items are allowed...?'\\\n",
    "+ 'Where is the emergency exit...?'\\\n",
    "+ 'Who do I contact in case of...?'\\\n",
    "+ 'Is it permitted to bring...?'\\\n",
    "* Indicators:\\\n",
    "+ Emergency contacts (112, emergency numbers)\\\n",
    "+ Security equipment (metal detectors, cameras)\\\n",
    "+ Prohibited items (weapons, glass bottles)\\\n",
    "+ Safety locations (first aid points, security checkpoints)\\\n",
    "+ Emergency procedures (evacuation routes, assembly points)\"\n",
    "\n",
    "Rules_Sport_prompt = \"Here is a list of things that should be in the category Rules & Sport: \\\n",
    "* Common words:\\\n",
    "+ Rules\\\n",
    "+ Record\\\n",
    "+ Score\\\n",
    "+ Points\\\n",
    "+ Qualify\\\n",
    "+ Championship\\\n",
    "+ Ranking\\\n",
    "+ Tournament\\\n",
    "+ Medal\\\n",
    "+ Format\\\n",
    "* Phrases:\\\n",
    "+ 'How does scoring work...?'\\\n",
    "+ 'What are the rules for...?'\\\n",
    "+ 'Who holds the record for...?'\\\n",
    "+ 'How do athletes qualify...?'\\\n",
    "* Indicators:\\\n",
    "+ Competition formats (knockout, round-robin)\\\n",
    "+ Scoring systems (points, time, distance)\\\n",
    "+ Performance statistics (world records, personal bests)\\\n",
    "+ Qualification criteria (minimum standards, rankings)\\\n",
    "+ Technical terms (heats, rounds, playoffs)\"\n",
    "\n",
    "Food_Drink_prompt = \"Here is a list of things that should be in the category Food & Drink: \\\n",
    "* Common words:\\\n",
    "+ Food\\\n",
    "+ Drink\\\n",
    "+ Restaurant\\\n",
    "+ Bar\\\n",
    "+ Snack\\\n",
    "+ Menu\\\n",
    "+ Water\\\n",
    "+ Beverage\\\n",
    "+ Meal\\\n",
    "+ Cafe\\\n",
    "* Phrases:\\\n",
    "+ 'Where can I find something to eat...?'\\\n",
    "+ 'Are there food options for...?'\\\n",
    "+ 'Can I bring my own...?'\\\n",
    "+ 'What types of food are...?'\\\n",
    "* Indicators:\\\n",
    "+ Food service locations (food court, concession stands)\\\n",
    "+ Dietary specifications (vegetarian, halal, gluten-free)\\\n",
    "+ Meal times (lunch, dinner)\\\n",
    "+ Payment methods (cash, card)\\\n",
    "+ Food types (hot meals, sandwiches, snacks)\""
   ]
  },
  {
   "cell_type": "code",
   "execution_count": 43,
   "metadata": {},
   "outputs": [],
   "source": [
    "questions_promt = \"generate 50 questions for each of the sub categories. Just provide the questions, nothing else.\""
   ]
  },
  {
   "cell_type": "code",
   "execution_count": 44,
   "metadata": {},
   "outputs": [
    {
     "name": "stderr",
     "output_type": "stream",
     "text": [
      "1it [02:43, 163.12s/it]"
     ]
    },
    {
     "name": "stdout",
     "output_type": "stream",
     "text": [
      "Question not valid: Here are 50 questions for each sub category under Logistics & Transport:\n",
      "Question not valid: **Site Access**\n",
      "Question not valid: **Public Transportation**\n",
      "Question not valid: **Parking**\n",
      "Question not valid: Note: The above list includes 150 questions related to parking, accessibility, and accommodations for spectators with disabilities at the Olympic site. It does not include any specific information or answers to these questions.\n"
     ]
    },
    {
     "name": "stderr",
     "output_type": "stream",
     "text": [
      "2it [03:54, 109.41s/it]"
     ]
    },
    {
     "name": "stdout",
     "output_type": "stream",
     "text": [
      "Question not valid: Here are 50 questions for each sub category:\n",
      "Question not valid: **Ticketing & Access**\n",
      "Question not valid: **Site Access**\n",
      "Question not valid: **Public Transportation**\n",
      "Question not valid: **Parking**\n",
      "Question not valid: **Accommodation**\n",
      "Question not valid: **Accessibility for Disabled Persons**\n"
     ]
    },
    {
     "name": "stderr",
     "output_type": "stream",
     "text": [
      "3it [04:38, 79.20s/it] "
     ]
    },
    {
     "name": "stdout",
     "output_type": "stream",
     "text": [
      "Question not valid: Here are the questions for the Sport Events category:\n",
      "Question not valid: **Common words:**\n",
      "Question not valid: **Phrases:**\n",
      "Question not valid: **Indicators:**\n",
      "Question not valid: And here are 50 additional questions:\n",
      "Question not valid: Let me know if this helps!\n"
     ]
    },
    {
     "name": "stderr",
     "output_type": "stream",
     "text": [
      "4it [07:09, 107.75s/it]"
     ]
    },
    {
     "name": "stdout",
     "output_type": "stream",
     "text": [
      "Question not valid: Here are 50 questions for each of the specified subcategories under \"Program & Planning\":\n",
      "Question not valid: **Schedule**\n",
      "Question not valid: **Program**\n",
      "Question not valid: **Ceremony**\n",
      "Question not valid: **Side Events**\n"
     ]
    },
    {
     "name": "stderr",
     "output_type": "stream",
     "text": [
      "5it [08:55, 106.95s/it]"
     ]
    },
    {
     "name": "stdout",
     "output_type": "stream",
     "text": [
      "Question not valid: Here are 50 questions for each subcategory under Services & Amenities:\n",
      "Question not valid: **Common words:**\n",
      "Question not valid: **Phrases:**\n",
      "Question not valid: **Indicators:**\n",
      "Question not valid: Please note that these phrases are examples only and may not accurately reflect real-world services or situations.\n"
     ]
    },
    {
     "name": "stderr",
     "output_type": "stream",
     "text": [
      "6it [25:50, 415.83s/it]"
     ]
    },
    {
     "name": "stdout",
     "output_type": "stream",
     "text": [
      "Question not valid: Here are 50 questions for each of the subcategories under Security & Emergencies:\n",
      "Question not valid: **Common words**\n",
      "Question not valid: **Phrases**\n",
      "Question not valid: **Indicators**\n"
     ]
    },
    {
     "name": "stderr",
     "output_type": "stream",
     "text": [
      "7it [1:01:08, 972.39s/it]"
     ]
    },
    {
     "name": "stdout",
     "output_type": "stream",
     "text": [
      "Question not valid: Here are 50 questions for each subcategory under Rules & Sport:\n",
      "Question not valid: **Rules**\n",
      "Question not valid: **Record**\n",
      "Question not valid: **Score**\n"
     ]
    },
    {
     "name": "stderr",
     "output_type": "stream",
     "text": [
      "8it [1:02:36, 469.61s/it]"
     ]
    },
    {
     "name": "stdout",
     "output_type": "stream",
     "text": [
      "Question not valid: Here are 50 questions for each of the subcategories under \"Food & Drink\":\n",
      "Question not valid: **Common words:**\n",
      "Question not valid: **Phrases:**\n",
      "Question not valid: **Indicators:**\n"
     ]
    },
    {
     "name": "stderr",
     "output_type": "stream",
     "text": [
      "\n"
     ]
    }
   ],
   "source": [
    "from tqdm import tqdm \n",
    "\n",
    "categories = ['Logistics & Transport', 'Ticketing & Access', 'Sport Events', 'Program & Planning', 'Services & Amenities', 'Security & Emergencies', 'Rules & Sport', 'Food & Drink']\n",
    "categories_prompts = [Logistics_Transport_prompt, Ticketing_Access_prompt, Sport_Events_prompt, Program_Planning_prompt, Services_Amenities_prompt, Security_Emergencies_prompt, Rules_Sport_prompt, Food_Drink_prompt]\n",
    "questions = {}\n",
    "for cat, prompt in tqdm(zip(categories, categories_prompts)):\n",
    "    final_prompt = base_prompt + prompt + questions_promt\n",
    "    response = ollama.chat(model='llama3.1', messages=[\n",
    "      {\n",
    "        'role': 'user',\n",
    "        'content': final_prompt,\n",
    "      },\n",
    "    ])\n",
    "    questions[cat] = extract_questions(response)\n",
    "\n"
   ]
  },
  {
   "cell_type": "code",
   "execution_count": 45,
   "metadata": {},
   "outputs": [],
   "source": [
    "# questions is a dict with categories as keys and lists of questions as values\n",
    "# save the questions in a csv file\n",
    "# id, category, question\n",
    "# no pandas\n",
    "import csv\n",
    "idx = 0\n",
    "cat_ids = {cat: idx for idx, cat in enumerate(categories)}\n",
    "with open('questions.csv', 'w') as file:\n",
    "    writer = csv.writer(file)\n",
    "    writer.writerow(['id', 'category_id', 'category', 'question'])\n",
    "    for cat, qs in questions.items():\n",
    "        for q in qs:\n",
    "            writer.writerow([idx, cat_ids[cat], cat, q])\n",
    "            idx += 1"
   ]
  },
  {
   "cell_type": "code",
   "execution_count": 46,
   "metadata": {},
   "outputs": [
    {
     "data": {
      "text/plain": [
       "{'models': [{'name': 'llama3.1:latest',\n",
       "   'model': 'llama3.1:latest',\n",
       "   'modified_at': '2024-08-25T17:18:17.947045701+02:00',\n",
       "   'size': 4661230977,\n",
       "   'digest': '91ab477bec9d27086a119e33c471ae7afbd786cc4fbd8f38d8af0a0b949d53aa',\n",
       "   'details': {'parent_model': '',\n",
       "    'format': 'gguf',\n",
       "    'family': 'llama',\n",
       "    'families': ['llama'],\n",
       "    'parameter_size': '8.0B',\n",
       "    'quantization_level': 'Q4_0'}}]}"
      ]
     },
     "execution_count": 46,
     "metadata": {},
     "output_type": "execute_result"
    }
   ],
   "source": [
    "ollama.list()\n"
   ]
  },
  {
   "cell_type": "code",
   "execution_count": null,
   "metadata": {},
   "outputs": [],
   "source": []
  }
 ],
 "metadata": {
  "kernelspec": {
   "display_name": "base",
   "language": "python",
   "name": "python3"
  },
  "language_info": {
   "codemirror_mode": {
    "name": "ipython",
    "version": 3
   },
   "file_extension": ".py",
   "mimetype": "text/x-python",
   "name": "python",
   "nbconvert_exporter": "python",
   "pygments_lexer": "ipython3",
   "version": "3.12.2"
  }
 },
 "nbformat": 4,
 "nbformat_minor": 2
}
